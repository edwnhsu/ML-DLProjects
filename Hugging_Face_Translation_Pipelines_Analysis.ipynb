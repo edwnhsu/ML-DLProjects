{
 "cells": [
  {
   "cell_type": "markdown",
   "id": "e8d648d7-2fd2-40e5-ba94-f90fb9c32f8c",
   "metadata": {},
   "source": [
    "# Assignment 2, Yuwei Hsu, 2024/07/02’."
   ]
  },
  {
   "cell_type": "code",
   "execution_count": 1,
   "id": "16ec786a-5ff1-4967-bd9c-ec6ccc831469",
   "metadata": {},
   "outputs": [
    {
     "name": "stdout",
     "output_type": "stream",
     "text": [
      "Requirement already satisfied: transformers in /opt/conda/lib/python3.10/site-packages (4.34.0)\n",
      "Requirement already satisfied: filelock in /opt/conda/lib/python3.10/site-packages (from transformers) (3.12.2)\n",
      "Requirement already satisfied: huggingface-hub<1.0,>=0.16.4 in /opt/conda/lib/python3.10/site-packages (from transformers) (0.16.4)\n",
      "Requirement already satisfied: numpy>=1.17 in /opt/conda/lib/python3.10/site-packages (from transformers) (1.24.0)\n",
      "Requirement already satisfied: packaging>=20.0 in /opt/conda/lib/python3.10/site-packages (from transformers) (23.1)\n",
      "Requirement already satisfied: pyyaml>=5.1 in /opt/conda/lib/python3.10/site-packages (from transformers) (6.0.1)\n",
      "Requirement already satisfied: regex!=2019.12.17 in /opt/conda/lib/python3.10/site-packages (from transformers) (2023.10.3)\n",
      "Requirement already satisfied: requests in /opt/conda/lib/python3.10/site-packages (from transformers) (2.31.0)\n",
      "Requirement already satisfied: tokenizers<0.15,>=0.14 in /opt/conda/lib/python3.10/site-packages (from transformers) (0.14.0)\n",
      "Requirement already satisfied: safetensors>=0.3.1 in /opt/conda/lib/python3.10/site-packages (from transformers) (0.3.3)\n",
      "Requirement already satisfied: tqdm>=4.27 in /opt/conda/lib/python3.10/site-packages (from transformers) (4.65.0)\n",
      "Requirement already satisfied: fsspec in /opt/conda/lib/python3.10/site-packages (from huggingface-hub<1.0,>=0.16.4->transformers) (2023.6.0)\n",
      "Requirement already satisfied: typing-extensions>=3.7.4.3 in /opt/conda/lib/python3.10/site-packages (from huggingface-hub<1.0,>=0.16.4->transformers) (4.7.1)\n",
      "Requirement already satisfied: charset-normalizer<4,>=2 in /opt/conda/lib/python3.10/site-packages (from requests->transformers) (3.2.0)\n",
      "Requirement already satisfied: idna<4,>=2.5 in /opt/conda/lib/python3.10/site-packages (from requests->transformers) (3.4)\n",
      "Requirement already satisfied: urllib3<3,>=1.21.1 in /opt/conda/lib/python3.10/site-packages (from requests->transformers) (1.26.16)\n",
      "Requirement already satisfied: certifi>=2017.4.17 in /opt/conda/lib/python3.10/site-packages (from requests->transformers) (2023.7.22)\n",
      "\u001b[33mWARNING: Running pip as the 'root' user can result in broken permissions and conflicting behaviour with the system package manager. It is recommended to use a virtual environment instead: https://pip.pypa.io/warnings/venv\u001b[0m\u001b[33m\n",
      "\u001b[0m"
     ]
    }
   ],
   "source": [
    "!pip install transformers"
   ]
  },
  {
   "cell_type": "code",
   "execution_count": 2,
   "id": "6f517a3a-5dcc-48bb-9640-fd2ea8e6af1b",
   "metadata": {},
   "outputs": [],
   "source": [
    "from transformers import pipeline"
   ]
  },
  {
   "cell_type": "code",
   "execution_count": 1,
   "id": "3e12d042-2870-46e1-acd4-270fcb879819",
   "metadata": {},
   "outputs": [
    {
     "data": {
      "application/vnd.jupyter.widget-view+json": {
       "model_id": "0f1e1a3542ff4b07bebc4f33a2522788",
       "version_major": 2,
       "version_minor": 0
      },
      "text/plain": [
       "Downloading tokenizer_config.json:   0%|          | 0.00/44.0 [00:00<?, ?B/s]"
      ]
     },
     "metadata": {},
     "output_type": "display_data"
    },
    {
     "data": {
      "application/vnd.jupyter.widget-view+json": {
       "model_id": "2bc40102a81741e4867a12fa3ce1456e",
       "version_major": 2,
       "version_minor": 0
      },
      "text/plain": [
       "Downloading config.json:   0%|          | 0.00/1.40k [00:00<?, ?B/s]"
      ]
     },
     "metadata": {},
     "output_type": "display_data"
    },
    {
     "data": {
      "application/vnd.jupyter.widget-view+json": {
       "model_id": "9a591111378d415690925e92e5e9c60e",
       "version_major": 2,
       "version_minor": 0
      },
      "text/plain": [
       "Downloading source.spm:   0%|          | 0.00/806k [00:00<?, ?B/s]"
      ]
     },
     "metadata": {},
     "output_type": "display_data"
    },
    {
     "data": {
      "application/vnd.jupyter.widget-view+json": {
       "model_id": "bb3b1e6f31ab4f9d888479e29cc4c068",
       "version_major": 2,
       "version_minor": 0
      },
      "text/plain": [
       "Downloading target.spm:   0%|          | 0.00/805k [00:00<?, ?B/s]"
      ]
     },
     "metadata": {},
     "output_type": "display_data"
    },
    {
     "data": {
      "application/vnd.jupyter.widget-view+json": {
       "model_id": "3ac7ad15456f48089ed070b0ea47f895",
       "version_major": 2,
       "version_minor": 0
      },
      "text/plain": [
       "Downloading vocab.json:   0%|          | 0.00/1.62M [00:00<?, ?B/s]"
      ]
     },
     "metadata": {},
     "output_type": "display_data"
    },
    {
     "name": "stderr",
     "output_type": "stream",
     "text": [
      "/opt/conda/lib/python3.10/site-packages/transformers/models/marian/tokenization_marian.py:197: UserWarning: Recommended: pip install sacremoses.\n",
      "  warnings.warn(\"Recommended: pip install sacremoses.\")\n"
     ]
    },
    {
     "data": {
      "application/vnd.jupyter.widget-view+json": {
       "model_id": "76c3ccbfeb564400a1c472066a206345",
       "version_major": 2,
       "version_minor": 0
      },
      "text/plain": [
       "Downloading pytorch_model.bin:   0%|          | 0.00/312M [00:00<?, ?B/s]"
      ]
     },
     "metadata": {},
     "output_type": "display_data"
    },
    {
     "data": {
      "application/vnd.jupyter.widget-view+json": {
       "model_id": "4199bd8896ac4c7bbc9f3564fe52907a",
       "version_major": 2,
       "version_minor": 0
      },
      "text/plain": [
       "Downloading generation_config.json:   0%|          | 0.00/293 [00:00<?, ?B/s]"
      ]
     },
     "metadata": {},
     "output_type": "display_data"
    }
   ],
   "source": [
    "# Load model directly\n",
    "from transformers import AutoTokenizer, AutoModelForSeq2SeqLM\n",
    "\n",
    "tokenizer = AutoTokenizer.from_pretrained(\"Helsinki-NLP/opus-mt-en-zh\")\n",
    "model = AutoModelForSeq2SeqLM.from_pretrained(\"Helsinki-NLP/opus-mt-en-zh\")"
   ]
  },
  {
   "cell_type": "markdown",
   "id": "25fe9e61-08e9-43cd-921f-cd6df54b61c4",
   "metadata": {},
   "source": [
    "# Question 2: Translate a Page of Interesting Text"
   ]
  },
  {
   "cell_type": "markdown",
   "id": "c017469a-e2e8-4132-b166-16d4357fa0b0",
   "metadata": {},
   "source": [
    "### Initialize English to Chinese translation pipeline"
   ]
  },
  {
   "cell_type": "code",
   "execution_count": 4,
   "id": "08983575-44db-4a55-b44f-94e36f2eed29",
   "metadata": {},
   "outputs": [
    {
     "data": {
      "application/vnd.jupyter.widget-view+json": {
       "model_id": "de2ae0c70e7742bd961d690da3faf6cf",
       "version_major": 2,
       "version_minor": 0
      },
      "text/plain": [
       "Downloading config.json:   0%|          | 0.00/1.53k [00:00<?, ?B/s]"
      ]
     },
     "metadata": {},
     "output_type": "display_data"
    },
    {
     "data": {
      "application/vnd.jupyter.widget-view+json": {
       "model_id": "577730dae0cc4e5ea3a726217a012ddd",
       "version_major": 2,
       "version_minor": 0
      },
      "text/plain": [
       "Downloading pytorch_model.bin:   0%|          | 0.00/310M [00:00<?, ?B/s]"
      ]
     },
     "metadata": {},
     "output_type": "display_data"
    },
    {
     "data": {
      "application/vnd.jupyter.widget-view+json": {
       "model_id": "04625699e785471eb5e34031574880d7",
       "version_major": 2,
       "version_minor": 0
      },
      "text/plain": [
       "Downloading generation_config.json:   0%|          | 0.00/258 [00:00<?, ?B/s]"
      ]
     },
     "metadata": {},
     "output_type": "display_data"
    },
    {
     "data": {
      "application/vnd.jupyter.widget-view+json": {
       "model_id": "5e4a87d9a3974185a53efaf9e85a036b",
       "version_major": 2,
       "version_minor": 0
      },
      "text/plain": [
       "Downloading tokenizer_config.json:   0%|          | 0.00/282 [00:00<?, ?B/s]"
      ]
     },
     "metadata": {},
     "output_type": "display_data"
    },
    {
     "data": {
      "application/vnd.jupyter.widget-view+json": {
       "model_id": "a0f538cad88d43f7bcca846733018bfb",
       "version_major": 2,
       "version_minor": 0
      },
      "text/plain": [
       "Downloading source.spm:   0%|          | 0.00/806k [00:00<?, ?B/s]"
      ]
     },
     "metadata": {},
     "output_type": "display_data"
    },
    {
     "data": {
      "application/vnd.jupyter.widget-view+json": {
       "model_id": "c735bf06244a4fddb9cd5caab7eed722",
       "version_major": 2,
       "version_minor": 0
      },
      "text/plain": [
       "Downloading target.spm:   0%|          | 0.00/808k [00:00<?, ?B/s]"
      ]
     },
     "metadata": {},
     "output_type": "display_data"
    },
    {
     "data": {
      "application/vnd.jupyter.widget-view+json": {
       "model_id": "86e372fa299a4cbbb7a11206e8000f58",
       "version_major": 2,
       "version_minor": 0
      },
      "text/plain": [
       "Downloading vocab.json:   0%|          | 0.00/1.76M [00:00<?, ?B/s]"
      ]
     },
     "metadata": {},
     "output_type": "display_data"
    },
    {
     "data": {
      "application/vnd.jupyter.widget-view+json": {
       "model_id": "96cb2643022c42959078d41040ecafc7",
       "version_major": 2,
       "version_minor": 0
      },
      "text/plain": [
       "Downloading (…)cial_tokens_map.json:   0%|          | 0.00/74.0 [00:00<?, ?B/s]"
      ]
     },
     "metadata": {},
     "output_type": "display_data"
    },
    {
     "name": "stderr",
     "output_type": "stream",
     "text": [
      "/opt/conda/lib/python3.10/site-packages/transformers/models/marian/tokenization_marian.py:197: UserWarning: Recommended: pip install sacremoses.\n",
      "  warnings.warn(\"Recommended: pip install sacremoses.\")\n"
     ]
    }
   ],
   "source": [
    "translator_en_to_zh_tw = pipeline(\"translation\", model=\"steve-tong/opus-mt-en-zh-tw\")"
   ]
  },
  {
   "cell_type": "markdown",
   "id": "534a9773-3876-4769-b1c2-057f9c2649b4",
   "metadata": {},
   "source": [
    "### English text (L1)"
   ]
  },
  {
   "cell_type": "code",
   "execution_count": 6,
   "id": "c014f257-03a0-41d5-9adb-0946a38b7426",
   "metadata": {},
   "outputs": [],
   "source": [
    "text_en = \"\"\"\n",
    "Employees’ negative daily emotions and lack of well-being can ultimately hurt worker engagement – and the economy, according to a new report released this week.\n",
    "\n",
    "Gallup, in its “State of the Global Workplace,” estimates that low employee engagement costs the global economy $8.9 trillion, or 9% of global GDP.\n",
    "\"\"\""
   ]
  },
  {
   "cell_type": "markdown",
   "id": "91c8e2dc-278e-433f-820f-59e1853563c8",
   "metadata": {},
   "source": [
    "### Translate from English to Traditional Chinese (L2)"
   ]
  },
  {
   "cell_type": "code",
   "execution_count": 16,
   "id": "fc2c55c1-b54c-43cb-8921-6985a33721df",
   "metadata": {},
   "outputs": [
    {
     "name": "stdout",
     "output_type": "stream",
     "text": [
      "Translated Text (ZH): 根據本週發佈的一份新報告,員工日常負面情緒和缺乏福利最終會損害員工參與 — — 以及經濟。 Gallup在其《全球工作場所狀況 》 ( State of the Global World Works)中估計,員工參與率低會給全球經濟帶來8.9萬億美元的損失,相當於全球GDP的9 % 。\n"
     ]
    }
   ],
   "source": [
    "translation_en_to_zh_tw = translator_en_to_zh_tw(text_en)[0]['translation_text']\n",
    "print(\"Translated Text (ZH):\", translation_en_to_zh_tw)"
   ]
  },
  {
   "cell_type": "markdown",
   "id": "2c13e2f7-fe3e-430d-9b67-4bab8af09baf",
   "metadata": {},
   "source": [
    "✍🏻 How good is the translation?\n",
    "* The translated text captures the essence of the original English text quite well.\n",
    "* Specific terms like \"Gallup\" and \"Global Workplace\" are correctly translated and maintained.\n",
    "* Numerical data and figures (e.g., \"$8.9 trillion\", \"9% of global GDP\") are accurately translated as well.\n",
    "* The translated text conveys the same context and meaning as the original text.\n",
    "* The negative impact of employees' emotions and well-being on worker engagement and the economy is well preserved."
   ]
  },
  {
   "cell_type": "markdown",
   "id": "0284cd70-14d3-469e-9238-0d49d0797969",
   "metadata": {},
   "source": [
    "# Question 3: Back-Translate and Compare\n"
   ]
  },
  {
   "cell_type": "markdown",
   "id": "28d55ae1-e540-4ad5-8f7e-11a5c073c589",
   "metadata": {},
   "source": [
    "### Initialize Chinese to English translation pipeline"
   ]
  },
  {
   "cell_type": "code",
   "execution_count": 12,
   "id": "0ff516c5-efa1-4a6a-95ee-457d4c83592f",
   "metadata": {},
   "outputs": [],
   "source": [
    "translator_zh_to_en = pipeline(\"translation\", model=\"Helsinki-NLP/opus-mt-zh-en\")"
   ]
  },
  {
   "cell_type": "markdown",
   "id": "659e6c4f-cbd4-4745-ae99-c3b5045c6e47",
   "metadata": {},
   "source": [
    "### Back-translate from Chinese to English"
   ]
  },
  {
   "cell_type": "code",
   "execution_count": 15,
   "id": "ebdaf50a-6124-41e4-95f0-af28afc42ad1",
   "metadata": {},
   "outputs": [
    {
     "name": "stdout",
     "output_type": "stream",
     "text": [
      "Back-Translated Text (EN): According to a new report released this week, workers’ daily negative mood and lack of well-being ultimately undermine their participation – as well as the economy. Galluup estimated in his Global Workplaces report that low employee participation would cost the global economy $8.9 trillion, equivalent to 9% of global GDP.\n"
     ]
    }
   ],
   "source": [
    "translation_zh_tw_to_en = translator_zh_to_en(translation_en_to_zh_tw)[0]['translation_text']\n",
    "print(\"Back-Translated Text (EN):\", translation_zh_tw_to_en)"
   ]
  },
  {
   "cell_type": "markdown",
   "id": "d53fb7b1-a1ed-4564-a6eb-789cb9b26288",
   "metadata": {},
   "source": [
    "### Compare the original and back-translated text"
   ]
  },
  {
   "cell_type": "code",
   "execution_count": 18,
   "id": "6998069a-4b4c-4a51-9bea-e995f21e0fb6",
   "metadata": {},
   "outputs": [
    {
     "name": "stdout",
     "output_type": "stream",
     "text": [
      "Original Text (EN): \n",
      "Employees’ negative daily emotions and lack of well-being can ultimately hurt worker engagement – and the economy, according to a new report released this week.\n",
      "\n",
      "Gallup, in its “State of the Global Workplace,” estimates that low employee engagement costs the global economy $8.9 trillion, or 9% of global GDP.\n",
      "\n",
      "Back-Translated Text (EN): According to a new report released this week, workers’ daily negative mood and lack of well-being ultimately undermine their participation – as well as the economy. Galluup estimated in his Global Workplaces report that low employee participation would cost the global economy $8.9 trillion, equivalent to 9% of global GDP.\n"
     ]
    }
   ],
   "source": [
    "print(\"Original Text (EN):\", text_en)\n",
    "print(\"Back-Translated Text (EN):\", translation_zh_tw_to_en)"
   ]
  },
  {
   "cell_type": "markdown",
   "id": "930ee06d-413e-4ced-a42c-a6414fc30124",
   "metadata": {},
   "source": [
    "✍🏻 How good is the reconstructed text? \n",
    "\n",
    "The reconstructed text is very close to the original text, maintaining the core message, key details, and overall meaning. The differences are minor and mainly pertain to wording and phrasing, which are common in translation processes. The slight grammatical adjustments and use of different synonyms do not significantly impact the clarity or accuracy of the information conveyed."
   ]
  },
  {
   "cell_type": "markdown",
   "id": "2bc1c6aa-5d36-4c20-b925-f8a10e12edfa",
   "metadata": {},
   "source": [
    "# Question 4: Generate the Second Page"
   ]
  },
  {
   "cell_type": "markdown",
   "id": "4eda050d-6ac8-4606-9e18-53c79fcda06b",
   "metadata": {
    "tags": []
   },
   "source": [
    "### Initialize text generation pipeline"
   ]
  },
  {
   "cell_type": "code",
   "execution_count": 43,
   "id": "8b12191b-d106-4cd7-95f6-8944a74f2e0e",
   "metadata": {},
   "outputs": [
    {
     "data": {
      "application/vnd.jupyter.widget-view+json": {
       "model_id": "ba36e0f34b234c758c529d5fcfc82c73",
       "version_major": 2,
       "version_minor": 0
      },
      "text/plain": [
       "Downloading config.json:   0%|          | 0.00/1.46k [00:00<?, ?B/s]"
      ]
     },
     "metadata": {},
     "output_type": "display_data"
    },
    {
     "data": {
      "application/vnd.jupyter.widget-view+json": {
       "model_id": "0be6ff01a16f466eb99e6c2751784850",
       "version_major": 2,
       "version_minor": 0
      },
      "text/plain": [
       "Downloading model.safetensors:   0%|          | 0.00/10.7G [00:00<?, ?B/s]"
      ]
     },
     "metadata": {},
     "output_type": "display_data"
    },
    {
     "data": {
      "application/vnd.jupyter.widget-view+json": {
       "model_id": "48d1d0e3d9944b7e9a7025ee91261e36",
       "version_major": 2,
       "version_minor": 0
      },
      "text/plain": [
       "Downloading tokenizer_config.json:   0%|          | 0.00/200 [00:00<?, ?B/s]"
      ]
     },
     "metadata": {},
     "output_type": "display_data"
    },
    {
     "data": {
      "application/vnd.jupyter.widget-view+json": {
       "model_id": "3f8f832562ee41a5b6c165f3282a2730",
       "version_major": 2,
       "version_minor": 0
      },
      "text/plain": [
       "Downloading vocab.json:   0%|          | 0.00/798k [00:00<?, ?B/s]"
      ]
     },
     "metadata": {},
     "output_type": "display_data"
    },
    {
     "data": {
      "application/vnd.jupyter.widget-view+json": {
       "model_id": "5c3998c6daa04cb0b9feff0fa3be4a3a",
       "version_major": 2,
       "version_minor": 0
      },
      "text/plain": [
       "Downloading merges.txt:   0%|          | 0.00/456k [00:00<?, ?B/s]"
      ]
     },
     "metadata": {},
     "output_type": "display_data"
    },
    {
     "data": {
      "application/vnd.jupyter.widget-view+json": {
       "model_id": "af8c71714f9d426bbf8983df69ea12c9",
       "version_major": 2,
       "version_minor": 0
      },
      "text/plain": [
       "Downloading (…)cial_tokens_map.json:   0%|          | 0.00/90.0 [00:00<?, ?B/s]"
      ]
     },
     "metadata": {},
     "output_type": "display_data"
    }
   ],
   "source": [
    "generator_en = pipeline(\"text-generation\", model=\"EleutherAI/gpt-neo-2.7B\") "
   ]
  },
  {
   "cell_type": "code",
   "execution_count": 38,
   "id": "f394ae57-695b-4618-94e6-02efbe652122",
   "metadata": {},
   "outputs": [
    {
     "data": {
      "application/vnd.jupyter.widget-view+json": {
       "model_id": "d8f2752448524c63bc69068ac15652c9",
       "version_major": 2,
       "version_minor": 0
      },
      "text/plain": [
       "Downloading config.json:   0%|          | 0.00/699 [00:00<?, ?B/s]"
      ]
     },
     "metadata": {},
     "output_type": "display_data"
    },
    {
     "data": {
      "application/vnd.jupyter.widget-view+json": {
       "model_id": "3720f4e19b9d4bdeb6e6604affb6e2d1",
       "version_major": 2,
       "version_minor": 0
      },
      "text/plain": [
       "Downloading (…)fetensors.index.json:   0%|          | 0.00/23.9k [00:00<?, ?B/s]"
      ]
     },
     "metadata": {},
     "output_type": "display_data"
    },
    {
     "data": {
      "application/vnd.jupyter.widget-view+json": {
       "model_id": "d78715dcbb494bfdabf7c7c9589235c3",
       "version_major": 2,
       "version_minor": 0
      },
      "text/plain": [
       "Downloading shards:   0%|          | 0/4 [00:00<?, ?it/s]"
      ]
     },
     "metadata": {},
     "output_type": "display_data"
    },
    {
     "data": {
      "application/vnd.jupyter.widget-view+json": {
       "model_id": "ccd4c13d5dbd4a28b680f7c4bdaeec57",
       "version_major": 2,
       "version_minor": 0
      },
      "text/plain": [
       "Downloading (…)of-00004.safetensors:   0%|          | 0.00/4.98G [00:00<?, ?B/s]"
      ]
     },
     "metadata": {},
     "output_type": "display_data"
    },
    {
     "data": {
      "application/vnd.jupyter.widget-view+json": {
       "model_id": "bbf1e808cf494de091bf70c46c2e6f47",
       "version_major": 2,
       "version_minor": 0
      },
      "text/plain": [
       "Downloading (…)of-00004.safetensors:   0%|          | 0.00/5.00G [00:00<?, ?B/s]"
      ]
     },
     "metadata": {},
     "output_type": "display_data"
    },
    {
     "data": {
      "application/vnd.jupyter.widget-view+json": {
       "model_id": "6e20b2c588724c0490362fe463a7bc6e",
       "version_major": 2,
       "version_minor": 0
      },
      "text/plain": [
       "Downloading (…)of-00004.safetensors:   0%|          | 0.00/4.92G [00:00<?, ?B/s]"
      ]
     },
     "metadata": {},
     "output_type": "display_data"
    },
    {
     "data": {
      "application/vnd.jupyter.widget-view+json": {
       "model_id": "1c465d590e934561b9a5a80aa548baac",
       "version_major": 2,
       "version_minor": 0
      },
      "text/plain": [
       "Downloading (…)of-00004.safetensors:   0%|          | 0.00/1.17G [00:00<?, ?B/s]"
      ]
     },
     "metadata": {},
     "output_type": "display_data"
    },
    {
     "data": {
      "application/vnd.jupyter.widget-view+json": {
       "model_id": "98d76868266f41bdafc24afe991d792f",
       "version_major": 2,
       "version_minor": 0
      },
      "text/plain": [
       "Loading checkpoint shards:   0%|          | 0/4 [00:00<?, ?it/s]"
      ]
     },
     "metadata": {},
     "output_type": "display_data"
    },
    {
     "data": {
      "application/vnd.jupyter.widget-view+json": {
       "model_id": "1c334efb72d840119f67c1f912d9de23",
       "version_major": 2,
       "version_minor": 0
      },
      "text/plain": [
       "Downloading generation_config.json:   0%|          | 0.00/172 [00:00<?, ?B/s]"
      ]
     },
     "metadata": {},
     "output_type": "display_data"
    },
    {
     "data": {
      "application/vnd.jupyter.widget-view+json": {
       "model_id": "cc97cfe7818548c2bcdc98fa352f8288",
       "version_major": 2,
       "version_minor": 0
      },
      "text/plain": [
       "Downloading tokenizer_config.json:   0%|          | 0.00/51.4k [00:00<?, ?B/s]"
      ]
     },
     "metadata": {},
     "output_type": "display_data"
    },
    {
     "data": {
      "application/vnd.jupyter.widget-view+json": {
       "model_id": "7c94e19077fe4ed2a585ee73af424185",
       "version_major": 2,
       "version_minor": 0
      },
      "text/plain": [
       "Downloading tokenizer.json:   0%|          | 0.00/9.09M [00:00<?, ?B/s]"
      ]
     },
     "metadata": {},
     "output_type": "display_data"
    },
    {
     "data": {
      "application/vnd.jupyter.widget-view+json": {
       "model_id": "5d1054ba3e2a477581cfc5399ca1d828",
       "version_major": 2,
       "version_minor": 0
      },
      "text/plain": [
       "Downloading (…)cial_tokens_map.json:   0%|          | 0.00/335 [00:00<?, ?B/s]"
      ]
     },
     "metadata": {},
     "output_type": "display_data"
    },
    {
     "name": "stderr",
     "output_type": "stream",
     "text": [
      "Special tokens have been added in the vocabulary, make sure the associated word embeddings are fine-tuned or trained.\n"
     ]
    }
   ],
   "source": [
    "generator_en = pipeline(\"text-generation\", model=\"openai-community/gpt2\") \n",
    "generator_zh = pipeline(\"text-generation\", model=\"p208p2002/llama-3-zhtw-8B\")"
   ]
  },
  {
   "cell_type": "markdown",
   "id": "f480b3eb-aa77-4e0e-97b5-6e2ebbf9c71c",
   "metadata": {},
   "source": [
    "### Generate the second page in English (L1)"
   ]
  },
  {
   "cell_type": "code",
   "execution_count": 44,
   "id": "8b66c97d-efaa-42ee-9a9b-299a6cbb38e7",
   "metadata": {},
   "outputs": [
    {
     "name": "stderr",
     "output_type": "stream",
     "text": [
      "Setting `pad_token_id` to `eos_token_id`:50256 for open-end generation.\n"
     ]
    },
    {
     "name": "stdout",
     "output_type": "stream",
     "text": [
      "\n",
      "Employees’ negative daily emotions and lack of well-being can ultimately hurt worker engagement – and the economy, according to a new report released this week.\n",
      "\n",
      "Gallup, in its “State of the Global Workplace,” estimates that low employee engagement costs the global economy $8.9 trillion, or 9% of global GDP.\n",
      "\n",
      "In addition, Gallup adds that work-related conditions that can threaten employee engagement are also a drag on the global economy. These include stress, dissatisfaction, lack of appreciation and overwork.\n",
      "\n",
      "Among the report’s most notable findings were these:\n",
      "\n",
      "• Overall, employee engagement levels in the US are higher than the global average.\n",
      "\n",
      "• Satisfaction, work-related conditions and well-being across the US is in line with the global average.\n",
      "\n",
      "• Employee engagement in the UK and France, however, is lower than in the global average.\n",
      "\n",
      "• Employee engagement levels are declining in India and South Korea, two countries Gallup says are making considerable contributions to the global economy.\n",
      "\n",
      "Gallup also found that employee engagement levels in the US are higher in larger firms. Also, employee engagement in the US is lower for men and women in the US, with the exception of a smaller company with a lower level of employee engagement as a whole.\n",
      "\n",
      "What do these findings mean?\n",
      "\n",
      "While Gallup’s “State of the Workplace” report offers interesting insights into\n"
     ]
    }
   ],
   "source": [
    "generated_text_en = generator_en(text_en, max_length=300)[0]['generated_text']\n",
    "print(generated_text_en)"
   ]
  },
  {
   "cell_type": "markdown",
   "id": "3ae52b2b-f3dd-4d1a-be39-131d83dc6fbf",
   "metadata": {},
   "source": [
    "✍🏻 Does the generated text make sense?\n",
    "\n",
    "Partially.\n",
    "\n",
    "* The statement \"employee engagement in the US is lower for men and women in the US, with the exception of a smaller company with a lower level of employee engagement as a whole\" is contradictory and confusing. It suggests both higher and lower engagement levels in the US without clear context.\n",
    "\n",
    "* The text contains redundant phrases, such as \"employee engagement in the US is higher in larger firms\" and the previously mentioned confusing statement about smaller companies.\n",
    "\n",
    "* The text ends abruptly without a proper conclusion, leaving the reader hanging with \"While Gallup’s 'State of the Workplace' report offers interesting insights into...\""
   ]
  },
  {
   "cell_type": "markdown",
   "id": "2d0684b9-7c68-4713-b61c-7caa23ee9211",
   "metadata": {},
   "source": [
    "### Generate the second page in Chinese (L2)"
   ]
  },
  {
   "cell_type": "code",
   "execution_count": 42,
   "id": "3b4f959b-63a7-4ba7-bf83-4285ecb99f37",
   "metadata": {},
   "outputs": [
    {
     "name": "stderr",
     "output_type": "stream",
     "text": [
      "Setting `pad_token_id` to `eos_token_id`:128001 for open-end generation.\n"
     ]
    },
    {
     "name": "stdout",
     "output_type": "stream",
     "text": [
      "Generated Text (ZH): 根據本週發佈的一份新報告,員工日常負面情緒和缺乏福利最終會損害員工參與 — — 以及經濟。 Gallup在其《全球工作場所狀況 》 ( State of the Global World Works)中估計,員工參與率低會給全球經濟帶來8.9萬億美元的損失,相當於全球GDP的9 % 。在美國,這將是近1.8萬億美元的損失。這些損失是由於員工缺乏參與造成的低效率,以及員工缺乏參與造成的離職率增加。 Gallup發現,員工缺乏參與是全球工作場所的主要問題。該公司發現,全球員工參與率僅為13 % 。這意味著只有1/3 的員工參與並為組織NASDAQ:GSX的成長做出貢獻。Gallup發現,員工參與率的差距是由於員ossalaries和福利的差距引起的。雖然員工日常負面情緒和缺乏福利在全球範圍內都是普遍的問題,但Gallup發現,員工缺乏參與的問題是由於員工日常負面情緒和缺乏福利引\n"
     ]
    }
   ],
   "source": [
    "generated_text_zh = generator_zh(translation_en_to_zh_tw, max_length=300)[0]['generated_text']\n",
    "print(\"Generated Text (ZH):\", generated_text_zh)"
   ]
  },
  {
   "cell_type": "markdown",
   "id": "1e3a7056-cd72-4bb1-9817-92707f93b639",
   "metadata": {},
   "source": [
    "✍🏻 Does the generated text make sense?\n",
    "\n",
    "Partially.\n",
    "\n",
    "The generated text has multiple issues that affect its readability and coherence:\n",
    "\n",
    "* The text is repetitive in stating the impacts of low employee engagement on the economy.\n",
    "* There are logical inconsistencies, especially concerning employee engagement percentages and their implications.\n",
    "* The text contains unclear references and typographical errors, such as \"員ossalaries\".\n",
    "* The text ends abruptly, which leaves the narrative incomplete."
   ]
  },
  {
   "cell_type": "markdown",
   "id": "28a28344-5f2e-4ce3-b368-f7672e52ade4",
   "metadata": {},
   "source": [
    "# Question 5: Summarize the Text"
   ]
  },
  {
   "cell_type": "markdown",
   "id": "76967ccd-aaee-4f29-83af-043d1becdba0",
   "metadata": {},
   "source": [
    "### Initialize summarization pipeline"
   ]
  },
  {
   "cell_type": "code",
   "execution_count": 45,
   "id": "8ae239c4-fd26-4502-86b0-649ffb0e6bf4",
   "metadata": {},
   "outputs": [
    {
     "data": {
      "application/vnd.jupyter.widget-view+json": {
       "model_id": "aefbd509054e418089e494f9549ecb70",
       "version_major": 2,
       "version_minor": 0
      },
      "text/plain": [
       "Downloading config.json:   0%|          | 0.00/1.58k [00:00<?, ?B/s]"
      ]
     },
     "metadata": {},
     "output_type": "display_data"
    },
    {
     "data": {
      "application/vnd.jupyter.widget-view+json": {
       "model_id": "ecd128d7b8674dcc956481cbf44f6298",
       "version_major": 2,
       "version_minor": 0
      },
      "text/plain": [
       "Downloading model.safetensors:   0%|          | 0.00/1.63G [00:00<?, ?B/s]"
      ]
     },
     "metadata": {},
     "output_type": "display_data"
    },
    {
     "data": {
      "application/vnd.jupyter.widget-view+json": {
       "model_id": "712aea7d5583423ca1a1551b89cfcd3e",
       "version_major": 2,
       "version_minor": 0
      },
      "text/plain": [
       "Downloading generation_config.json:   0%|          | 0.00/363 [00:00<?, ?B/s]"
      ]
     },
     "metadata": {},
     "output_type": "display_data"
    },
    {
     "data": {
      "application/vnd.jupyter.widget-view+json": {
       "model_id": "a013834c47b84628a8fce42132e881fe",
       "version_major": 2,
       "version_minor": 0
      },
      "text/plain": [
       "Downloading vocab.json:   0%|          | 0.00/899k [00:00<?, ?B/s]"
      ]
     },
     "metadata": {},
     "output_type": "display_data"
    },
    {
     "data": {
      "application/vnd.jupyter.widget-view+json": {
       "model_id": "95479563fc814e72893c53c18a301e1f",
       "version_major": 2,
       "version_minor": 0
      },
      "text/plain": [
       "Downloading merges.txt:   0%|          | 0.00/456k [00:00<?, ?B/s]"
      ]
     },
     "metadata": {},
     "output_type": "display_data"
    },
    {
     "data": {
      "application/vnd.jupyter.widget-view+json": {
       "model_id": "5ee6c00890724f1696c2e01b50a2f83c",
       "version_major": 2,
       "version_minor": 0
      },
      "text/plain": [
       "Downloading tokenizer.json:   0%|          | 0.00/1.36M [00:00<?, ?B/s]"
      ]
     },
     "metadata": {},
     "output_type": "display_data"
    },
    {
     "data": {
      "application/vnd.jupyter.widget-view+json": {
       "model_id": "d565b285d231484caeb09a5b8747fd28",
       "version_major": 2,
       "version_minor": 0
      },
      "text/plain": [
       "Downloading config.json:   0%|          | 0.00/677 [00:00<?, ?B/s]"
      ]
     },
     "metadata": {},
     "output_type": "display_data"
    },
    {
     "data": {
      "application/vnd.jupyter.widget-view+json": {
       "model_id": "56b91bc56c1944d689272728e2ef0e76",
       "version_major": 2,
       "version_minor": 0
      },
      "text/plain": [
       "Downloading pytorch_model.bin:   0%|          | 0.00/1.20G [00:00<?, ?B/s]"
      ]
     },
     "metadata": {},
     "output_type": "display_data"
    },
    {
     "data": {
      "application/vnd.jupyter.widget-view+json": {
       "model_id": "e0e7650a5c794ee8bd5c7803110bfc7b",
       "version_major": 2,
       "version_minor": 0
      },
      "text/plain": [
       "Downloading tokenizer_config.json:   0%|          | 0.00/407 [00:00<?, ?B/s]"
      ]
     },
     "metadata": {},
     "output_type": "display_data"
    },
    {
     "data": {
      "application/vnd.jupyter.widget-view+json": {
       "model_id": "e0704dc6d7404f4598a5603fadb29afc",
       "version_major": 2,
       "version_minor": 0
      },
      "text/plain": [
       "Downloading spiece.model:   0%|          | 0.00/4.31M [00:00<?, ?B/s]"
      ]
     },
     "metadata": {},
     "output_type": "display_data"
    },
    {
     "data": {
      "application/vnd.jupyter.widget-view+json": {
       "model_id": "eb11dd1a888f4612b3c28c2f5b7636a7",
       "version_major": 2,
       "version_minor": 0
      },
      "text/plain": [
       "Downloading tokenizer.json:   0%|          | 0.00/16.3M [00:00<?, ?B/s]"
      ]
     },
     "metadata": {},
     "output_type": "display_data"
    },
    {
     "data": {
      "application/vnd.jupyter.widget-view+json": {
       "model_id": "f4d10f66b61641f0a952de78d8d71297",
       "version_major": 2,
       "version_minor": 0
      },
      "text/plain": [
       "Downloading (…)cial_tokens_map.json:   0%|          | 0.00/65.0 [00:00<?, ?B/s]"
      ]
     },
     "metadata": {},
     "output_type": "display_data"
    }
   ],
   "source": [
    "summarizer_en = pipeline(\"summarization\", model=\"facebook/bart-large-cnn\")\n",
    "summarizer_zh = pipeline(\"summarization\", model=\"peterhsu/mt5-small-finetuned-amazon-en-zh_TW\")"
   ]
  },
  {
   "cell_type": "code",
   "execution_count": 36,
   "id": "6fcf4eb7-44af-4899-a17f-1613ed3b9f5a",
   "metadata": {},
   "outputs": [
    {
     "name": "stderr",
     "output_type": "stream",
     "text": [
      "No model was supplied, defaulted to sshleifer/distilbart-cnn-12-6 and revision a4f8f3e (https://huggingface.co/sshleifer/distilbart-cnn-12-6).\n",
      "Using a pipeline without specifying a model name and revision in production is not recommended.\n"
     ]
    }
   ],
   "source": [
    "summarizer = pipeline(\"summarization\")"
   ]
  },
  {
   "cell_type": "markdown",
   "id": "5d879beb-5e59-4c4b-8739-e7114a8f6425",
   "metadata": {},
   "source": [
    "### Summarize the text in English (L1)"
   ]
  },
  {
   "cell_type": "code",
   "execution_count": 46,
   "id": "f91227cb-50c1-452e-b943-d90f672265d9",
   "metadata": {},
   "outputs": [
    {
     "name": "stdout",
     "output_type": "stream",
     "text": [
      "Summary (EN): Gallup estimates that low employee engagement costs the global economy $8.9 trillion, or 9% of global GDP. The report was released this week.\n"
     ]
    }
   ],
   "source": [
    "summary_en = summarizer_en(text_en, max_length=50, min_length=25, do_sample=False)[0]['summary_text']\n",
    "print(\"Summary (EN):\", summary_en)"
   ]
  },
  {
   "cell_type": "markdown",
   "id": "4544399f-1346-4598-a0b4-544c859dce3c",
   "metadata": {},
   "source": [
    "### Summarize the text in Traditional Chinese (L2)"
   ]
  },
  {
   "cell_type": "code",
   "execution_count": 48,
   "id": "5fea8584-d9df-4105-95e3-c2335e33822d",
   "metadata": {},
   "outputs": [
    {
     "name": "stdout",
     "output_type": "stream",
     "text": [
      "Summary (ZH): 根據本週發佈的一份新報告,員工日常負面情緒和缺乏福利最終會損害員工參與 — — 以及經濟\n"
     ]
    }
   ],
   "source": [
    "summary_zh = summarizer_zh(translation_en_to_zh_tw, max_length=50, min_length=25, do_sample=False)[0]['summary_text']\n",
    "print(\"Summary (ZH):\", summary_zh)"
   ]
  },
  {
   "cell_type": "markdown",
   "id": "95ea135c-3c2f-4dcf-8f80-f1ee0c983daf",
   "metadata": {},
   "source": [
    "✍🏻 Does each summary make sense?\n",
    "\n",
    "The English summary makes sense and accurately captures the essence of the original text. In contrast, the Chinese summary does not fully make sense. While it captures the idea that negative daily emotions and lack of well-being can harm employee engagement and the economy, it misses the crucial detail about the estimated economic impact ($8.9 trillion, or 9% of global GDP) provided by the Gallup report. Including this information would make the summary more complete and informative."
   ]
  },
  {
   "cell_type": "markdown",
   "id": "7d802723-e63e-412e-83b8-fb1ef1585732",
   "metadata": {},
   "source": [
    "# Question 6: Ask Questions About the Text"
   ]
  },
  {
   "cell_type": "markdown",
   "id": "af764cf9-e19e-44be-bb87-541889da549e",
   "metadata": {},
   "source": [
    "### Initialize question answering pipeline"
   ]
  },
  {
   "cell_type": "code",
   "execution_count": 49,
   "id": "3d7d81b2-c3bd-42f7-8154-135d147c8167",
   "metadata": {},
   "outputs": [
    {
     "data": {
      "application/vnd.jupyter.widget-view+json": {
       "model_id": "dba8aed57afb4859a8b69d1d321f37f9",
       "version_major": 2,
       "version_minor": 0
      },
      "text/plain": [
       "Downloading config.json:   0%|          | 0.00/473 [00:00<?, ?B/s]"
      ]
     },
     "metadata": {},
     "output_type": "display_data"
    },
    {
     "data": {
      "application/vnd.jupyter.widget-view+json": {
       "model_id": "3348781f30d6425898e8f0115888a448",
       "version_major": 2,
       "version_minor": 0
      },
      "text/plain": [
       "Downloading model.safetensors:   0%|          | 0.00/261M [00:00<?, ?B/s]"
      ]
     },
     "metadata": {},
     "output_type": "display_data"
    },
    {
     "data": {
      "application/vnd.jupyter.widget-view+json": {
       "model_id": "e2c837c40cef415283e77324babf1597",
       "version_major": 2,
       "version_minor": 0
      },
      "text/plain": [
       "Downloading tokenizer_config.json:   0%|          | 0.00/49.0 [00:00<?, ?B/s]"
      ]
     },
     "metadata": {},
     "output_type": "display_data"
    },
    {
     "data": {
      "application/vnd.jupyter.widget-view+json": {
       "model_id": "83c9624aa8b04f54a2126079701fc4fb",
       "version_major": 2,
       "version_minor": 0
      },
      "text/plain": [
       "Downloading vocab.txt:   0%|          | 0.00/213k [00:00<?, ?B/s]"
      ]
     },
     "metadata": {},
     "output_type": "display_data"
    },
    {
     "data": {
      "application/vnd.jupyter.widget-view+json": {
       "model_id": "dd76a40cb3194dd2ad9ece8eac2ad77e",
       "version_major": 2,
       "version_minor": 0
      },
      "text/plain": [
       "Downloading tokenizer.json:   0%|          | 0.00/436k [00:00<?, ?B/s]"
      ]
     },
     "metadata": {},
     "output_type": "display_data"
    },
    {
     "data": {
      "application/vnd.jupyter.widget-view+json": {
       "model_id": "1598c7e2b73b4d91adc3a22ec2cf3355",
       "version_major": 2,
       "version_minor": 0
      },
      "text/plain": [
       "Downloading config.json:   0%|          | 0.00/452 [00:00<?, ?B/s]"
      ]
     },
     "metadata": {},
     "output_type": "display_data"
    },
    {
     "data": {
      "application/vnd.jupyter.widget-view+json": {
       "model_id": "5a04f5f5f0b64e76afd32ccb43269e04",
       "version_major": 2,
       "version_minor": 0
      },
      "text/plain": [
       "Downloading pytorch_model.bin:   0%|          | 0.00/407M [00:00<?, ?B/s]"
      ]
     },
     "metadata": {},
     "output_type": "display_data"
    },
    {
     "data": {
      "application/vnd.jupyter.widget-view+json": {
       "model_id": "d789beb9cc954b4e83d17cc1d567b0f0",
       "version_major": 2,
       "version_minor": 0
      },
      "text/plain": [
       "Downloading tokenizer_config.json:   0%|          | 0.00/216 [00:00<?, ?B/s]"
      ]
     },
     "metadata": {},
     "output_type": "display_data"
    },
    {
     "data": {
      "application/vnd.jupyter.widget-view+json": {
       "model_id": "2c06502838e44fb7b8181c7066f98f24",
       "version_major": 2,
       "version_minor": 0
      },
      "text/plain": [
       "Downloading vocab.txt:   0%|          | 0.00/110k [00:00<?, ?B/s]"
      ]
     },
     "metadata": {},
     "output_type": "display_data"
    },
    {
     "data": {
      "application/vnd.jupyter.widget-view+json": {
       "model_id": "05f35dc50a194a8eabcc85dc45b773ad",
       "version_major": 2,
       "version_minor": 0
      },
      "text/plain": [
       "Downloading (…)cial_tokens_map.json:   0%|          | 0.00/112 [00:00<?, ?B/s]"
      ]
     },
     "metadata": {},
     "output_type": "display_data"
    }
   ],
   "source": [
    "qa_en = pipeline(\"question-answering\", model=\"distilbert-base-cased-distilled-squad\")\n",
    "qa_zh_tw = pipeline(\"question-answering\", model=\"uer/roberta-base-chinese-extractive-qa\")"
   ]
  },
  {
   "cell_type": "code",
   "execution_count": 39,
   "id": "ae9f3ab6-1d68-4d10-8b38-870cb54d1abb",
   "metadata": {},
   "outputs": [
    {
     "name": "stderr",
     "output_type": "stream",
     "text": [
      "No model was supplied, defaulted to distilbert-base-cased-distilled-squad and revision 626af31 (https://huggingface.co/distilbert-base-cased-distilled-squad).\n",
      "Using a pipeline without specifying a model name and revision in production is not recommended.\n"
     ]
    }
   ],
   "source": [
    "qa_pipeline = pipeline(\"question-answering\")"
   ]
  },
  {
   "cell_type": "markdown",
   "id": "0225a353-b8d7-4729-9f52-25e21cd5c031",
   "metadata": {},
   "source": [
    "### Questions to ask"
   ]
  },
  {
   "cell_type": "code",
   "execution_count": 51,
   "id": "46f5da15-8694-451f-8abe-ebd7653f46a4",
   "metadata": {},
   "outputs": [],
   "source": [
    "questions = [\"What can hurt worker engagement?\", \"How much does low employee engagement cost the global economy?\"]"
   ]
  },
  {
   "cell_type": "markdown",
   "id": "a35a32b0-ccf6-4ec0-8cf3-e40709590e1a",
   "metadata": {},
   "source": [
    "### Answers for English (L1)"
   ]
  },
  {
   "cell_type": "code",
   "execution_count": 53,
   "id": "4fe95fa1-5caf-40e1-b170-dab2e960261f",
   "metadata": {},
   "outputs": [
    {
     "name": "stdout",
     "output_type": "stream",
     "text": [
      "Question: What can hurt worker engagement? (EN)\n",
      "Answer: negative daily emotions and lack of well-being (EN)\n",
      "Question: How much does low employee engagement cost the global economy? (EN)\n",
      "Answer: $8.9 trillion (EN)\n"
     ]
    }
   ],
   "source": [
    "for question in questions:\n",
    "    answer_en = qa_en(question=question, context=text_en)\n",
    "    print(f\"Question: {question} (EN)\")\n",
    "    print(f\"Answer: {answer_en['answer']} (EN)\")"
   ]
  },
  {
   "cell_type": "markdown",
   "id": "87c8d7b3-9e20-4aae-a4e9-d398cd26dcbc",
   "metadata": {},
   "source": [
    "### Answers for Traditional Chinese (L2)"
   ]
  },
  {
   "cell_type": "code",
   "execution_count": 54,
   "id": "6bdbf156-30bd-4164-8fef-aefb3f4d58de",
   "metadata": {},
   "outputs": [
    {
     "name": "stdout",
     "output_type": "stream",
     "text": [
      "Question: What can hurt worker engagement? (ZH)\n",
      "Answer: 員工日常負面情緒和缺乏福利 (ZH)\n",
      "Question: How much does low employee engagement cost the global economy? (ZH)\n",
      "Answer: 9 % (ZH)\n"
     ]
    }
   ],
   "source": [
    "for question in questions:\n",
    "    answers_zh_tw = qa_zh_tw(question=question, context=translation_en_to_zh_tw)\n",
    "    print(f\"Question: {question} (ZH)\")\n",
    "    print(f\"Answer: {answers_zh_tw['answer']} (ZH)\")"
   ]
  },
  {
   "cell_type": "markdown",
   "id": "88eee5c5-edfe-4b7e-9f92-3f3789d3e8e0",
   "metadata": {},
   "source": [
    "✍🏻 Do the answers make sense? Are they similar between the languages?\n",
    "\n",
    "The answers to the first question about what can hurt worker engagement make sense in both languages and are similar.\n",
    "\n",
    "* ZH: 員工日常負面情緒和缺乏福利\n",
    "* EN: negative daily emotions and lack of well-being\n",
    "\n",
    "However, the answers to the second question about the cost of low employee engagement are not fully accurate in both languages.\n",
    "* ZH: 9 % (This is only part of the information and lacks the dollar amount)\n",
    "* EN: $8.9 trillion (This answer is accurate and complete)\n",
    "\n",
    "For the Chinese answer to the second question, it should include both the percentage and the dollar amount: $8.9萬億，相當於全球GDP的9%."
   ]
  },
  {
   "cell_type": "markdown",
   "id": "8802937d-1ebc-4327-8045-7a45441ab968",
   "metadata": {
    "tags": []
   },
   "source": [
    "# Question 7: Named Entity Recognition (NER)"
   ]
  },
  {
   "cell_type": "code",
   "execution_count": 58,
   "id": "ffcb38d0-3134-4984-920d-a46f0d04431d",
   "metadata": {},
   "outputs": [],
   "source": [
    "import pandas as pd"
   ]
  },
  {
   "cell_type": "markdown",
   "id": "8101b5db-3830-415f-a3b9-4da48bc4f51d",
   "metadata": {},
   "source": [
    "### Initialize NER pipelines with aggregation strategy"
   ]
  },
  {
   "cell_type": "code",
   "execution_count": 63,
   "id": "0f5f7147-1663-47ea-ab08-7e47f03caf36",
   "metadata": {},
   "outputs": [
    {
     "name": "stderr",
     "output_type": "stream",
     "text": [
      "Some weights of the model checkpoint at dbmdz/bert-large-cased-finetuned-conll03-english were not used when initializing BertForTokenClassification: ['bert.pooler.dense.bias', 'bert.pooler.dense.weight']\n",
      "- This IS expected if you are initializing BertForTokenClassification from the checkpoint of a model trained on another task or with another architecture (e.g. initializing a BertForSequenceClassification model from a BertForPreTraining model).\n",
      "- This IS NOT expected if you are initializing BertForTokenClassification from the checkpoint of a model that you expect to be exactly identical (initializing a BertForSequenceClassification model from a BertForSequenceClassification model).\n"
     ]
    },
    {
     "data": {
      "application/vnd.jupyter.widget-view+json": {
       "model_id": "cc9ebb5e882b4a5c9f213d9522bc3839",
       "version_major": 2,
       "version_minor": 0
      },
      "text/plain": [
       "Downloading config.json:   0%|          | 0.00/3.71k [00:00<?, ?B/s]"
      ]
     },
     "metadata": {},
     "output_type": "display_data"
    },
    {
     "data": {
      "application/vnd.jupyter.widget-view+json": {
       "model_id": "43678dea234a4dc1b6803c5ef5fcf359",
       "version_major": 2,
       "version_minor": 0
      },
      "text/plain": [
       "Downloading pytorch_model.bin:   0%|          | 0.00/407M [00:00<?, ?B/s]"
      ]
     },
     "metadata": {},
     "output_type": "display_data"
    },
    {
     "data": {
      "application/vnd.jupyter.widget-view+json": {
       "model_id": "f8ec7bafe0c846fba9ec3688a1ab417c",
       "version_major": 2,
       "version_minor": 0
      },
      "text/plain": [
       "Downloading tokenizer_config.json:   0%|          | 0.00/301 [00:00<?, ?B/s]"
      ]
     },
     "metadata": {},
     "output_type": "display_data"
    },
    {
     "data": {
      "application/vnd.jupyter.widget-view+json": {
       "model_id": "3004be58b5804b828ccc0ef8ae92db1f",
       "version_major": 2,
       "version_minor": 0
      },
      "text/plain": [
       "Downloading vocab.txt:   0%|          | 0.00/110k [00:00<?, ?B/s]"
      ]
     },
     "metadata": {},
     "output_type": "display_data"
    },
    {
     "data": {
      "application/vnd.jupyter.widget-view+json": {
       "model_id": "45ecf68a38d446d6adf8af8b5fd90155",
       "version_major": 2,
       "version_minor": 0
      },
      "text/plain": [
       "Downloading (…)cial_tokens_map.json:   0%|          | 0.00/112 [00:00<?, ?B/s]"
      ]
     },
     "metadata": {},
     "output_type": "display_data"
    }
   ],
   "source": [
    "ner_en = pipeline(\"ner\", model=\"dbmdz/bert-large-cased-finetuned-conll03-english\", aggregation_strategy=\"simple\")\n",
    "ner_zh_tw = pipeline(\"ner\", model=\"ckiplab/bert-base-chinese-ner\", aggregation_strategy=\"simple\")"
   ]
  },
  {
   "cell_type": "code",
   "execution_count": 43,
   "id": "131b3a70-fe06-48ce-abf8-0aa4d216a60c",
   "metadata": {},
   "outputs": [
    {
     "name": "stderr",
     "output_type": "stream",
     "text": [
      "No model was supplied, defaulted to dbmdz/bert-large-cased-finetuned-conll03-english and revision f2482bf (https://huggingface.co/dbmdz/bert-large-cased-finetuned-conll03-english).\n",
      "Using a pipeline without specifying a model name and revision in production is not recommended.\n",
      "Some weights of the model checkpoint at dbmdz/bert-large-cased-finetuned-conll03-english were not used when initializing BertForTokenClassification: ['bert.pooler.dense.weight', 'bert.pooler.dense.bias']\n",
      "- This IS expected if you are initializing BertForTokenClassification from the checkpoint of a model trained on another task or with another architecture (e.g. initializing a BertForSequenceClassification model from a BertForPreTraining model).\n",
      "- This IS NOT expected if you are initializing BertForTokenClassification from the checkpoint of a model that you expect to be exactly identical (initializing a BertForSequenceClassification model from a BertForSequenceClassification model).\n"
     ]
    }
   ],
   "source": [
    "ner_tagger = pipeline(\"ner\", aggregation_strategy=\"simple\")"
   ]
  },
  {
   "cell_type": "markdown",
   "id": "1e481c58-46e5-4248-9ff0-9c10a809c0c5",
   "metadata": {},
   "source": [
    "### Perform NER for English (L1)"
   ]
  },
  {
   "cell_type": "code",
   "execution_count": 56,
   "id": "0c1e7b9b-9769-49c4-a785-4a3bfbcdb211",
   "metadata": {},
   "outputs": [
    {
     "data": {
      "text/plain": [
       "'\\nEmployees’ negative daily emotions and lack of well-being can ultimately hurt worker engagement – and the economy, according to a new report released this week.\\n\\nGallup, in its “State of the Global Workplace,” estimates that low employee engagement costs the global economy $8.9 trillion, or 9% of global GDP.\\n'"
      ]
     },
     "execution_count": 56,
     "metadata": {},
     "output_type": "execute_result"
    }
   ],
   "source": [
    "text_en"
   ]
  },
  {
   "cell_type": "code",
   "execution_count": 67,
   "id": "2182975e-78de-4f2b-822a-bb876c1bd915",
   "metadata": {},
   "outputs": [
    {
     "name": "stdout",
     "output_type": "stream",
     "text": [
      "Entities (EN):\n"
     ]
    },
    {
     "data": {
      "text/html": [
       "<div>\n",
       "<style scoped>\n",
       "    .dataframe tbody tr th:only-of-type {\n",
       "        vertical-align: middle;\n",
       "    }\n",
       "\n",
       "    .dataframe tbody tr th {\n",
       "        vertical-align: top;\n",
       "    }\n",
       "\n",
       "    .dataframe thead th {\n",
       "        text-align: right;\n",
       "    }\n",
       "</style>\n",
       "<table border=\"1\" class=\"dataframe\">\n",
       "  <thead>\n",
       "    <tr style=\"text-align: right;\">\n",
       "      <th></th>\n",
       "      <th>entity_group</th>\n",
       "      <th>score</th>\n",
       "      <th>word</th>\n",
       "      <th>start</th>\n",
       "      <th>end</th>\n",
       "    </tr>\n",
       "  </thead>\n",
       "  <tbody>\n",
       "    <tr>\n",
       "      <th>0</th>\n",
       "      <td>ORG</td>\n",
       "      <td>0.988274</td>\n",
       "      <td>Gallup</td>\n",
       "      <td>163</td>\n",
       "      <td>169</td>\n",
       "    </tr>\n",
       "    <tr>\n",
       "      <th>1</th>\n",
       "      <td>MISC</td>\n",
       "      <td>0.519797</td>\n",
       "      <td>of</td>\n",
       "      <td>185</td>\n",
       "      <td>187</td>\n",
       "    </tr>\n",
       "    <tr>\n",
       "      <th>2</th>\n",
       "      <td>MISC</td>\n",
       "      <td>0.964634</td>\n",
       "      <td>Global</td>\n",
       "      <td>192</td>\n",
       "      <td>198</td>\n",
       "    </tr>\n",
       "    <tr>\n",
       "      <th>3</th>\n",
       "      <td>MISC</td>\n",
       "      <td>0.516028</td>\n",
       "      <td>##place</td>\n",
       "      <td>203</td>\n",
       "      <td>208</td>\n",
       "    </tr>\n",
       "  </tbody>\n",
       "</table>\n",
       "</div>"
      ],
      "text/plain": [
       "  entity_group     score     word  start  end\n",
       "0          ORG  0.988274   Gallup    163  169\n",
       "1         MISC  0.519797       of    185  187\n",
       "2         MISC  0.964634   Global    192  198\n",
       "3         MISC  0.516028  ##place    203  208"
      ]
     },
     "execution_count": 67,
     "metadata": {},
     "output_type": "execute_result"
    }
   ],
   "source": [
    "entities_en = ner_en(text_en)\n",
    "entities_df_en = pd.DataFrame(entities_en)\n",
    "print(\"Entities (EN):\")\n",
    "entities_df_en"
   ]
  },
  {
   "cell_type": "markdown",
   "id": "5bce9492-45e5-4b65-b628-b66edc0cd88d",
   "metadata": {},
   "source": [
    "✍🏻 Do the results make sense?\n",
    "\n",
    "Partially. The identification of \"Gallup\" as an organization is correct and makes sense. However, the other entities identified (\"of\", \"Global\", and \"##place\") do not fully make sense or are incomplete. The word \"of\" should not be classified as an entity, and \"Global\" and \"##place\" appear to be either part of longer entities or tokenization artifacts."
   ]
  },
  {
   "cell_type": "markdown",
   "id": "1a90e10f-e721-477c-89ae-dc329caa5d53",
   "metadata": {},
   "source": [
    "### Perform NER for Traditional Chinese (L2)"
   ]
  },
  {
   "cell_type": "code",
   "execution_count": 61,
   "id": "3b756fa5-ba4f-4963-aacb-bdaca84147fc",
   "metadata": {},
   "outputs": [
    {
     "data": {
      "text/plain": [
       "'根據本週發佈的一份新報告,員工日常負面情緒和缺乏福利最終會損害員工參與 — — 以及經濟。 Gallup在其《全球工作場所狀況 》 ( State of the Global World Works)中估計,員工參與率低會給全球經濟帶來8.9萬億美元的損失,相當於全球GDP的9 % 。'"
      ]
     },
     "execution_count": 61,
     "metadata": {},
     "output_type": "execute_result"
    }
   ],
   "source": [
    "translation_en_to_zh_tw"
   ]
  },
  {
   "cell_type": "code",
   "execution_count": 64,
   "id": "d2519b49-2919-48fa-9eed-d877c24c6eeb",
   "metadata": {},
   "outputs": [
    {
     "name": "stdout",
     "output_type": "stream",
     "text": [
      "Entities (ZH):\n"
     ]
    },
    {
     "data": {
      "text/html": [
       "<div>\n",
       "<style scoped>\n",
       "    .dataframe tbody tr th:only-of-type {\n",
       "        vertical-align: middle;\n",
       "    }\n",
       "\n",
       "    .dataframe tbody tr th {\n",
       "        vertical-align: top;\n",
       "    }\n",
       "\n",
       "    .dataframe thead th {\n",
       "        text-align: right;\n",
       "    }\n",
       "</style>\n",
       "<table border=\"1\" class=\"dataframe\">\n",
       "  <thead>\n",
       "    <tr style=\"text-align: right;\">\n",
       "      <th></th>\n",
       "      <th>entity_group</th>\n",
       "      <th>score</th>\n",
       "      <th>word</th>\n",
       "      <th>start</th>\n",
       "      <th>end</th>\n",
       "    </tr>\n",
       "  </thead>\n",
       "  <tbody>\n",
       "    <tr>\n",
       "      <th>0</th>\n",
       "      <td>DATE</td>\n",
       "      <td>0.999999</td>\n",
       "      <td>本</td>\n",
       "      <td>2</td>\n",
       "      <td>3</td>\n",
       "    </tr>\n",
       "    <tr>\n",
       "      <th>1</th>\n",
       "      <td>DATE</td>\n",
       "      <td>0.999999</td>\n",
       "      <td>週</td>\n",
       "      <td>3</td>\n",
       "      <td>4</td>\n",
       "    </tr>\n",
       "    <tr>\n",
       "      <th>2</th>\n",
       "      <td>WORK_OF_ART</td>\n",
       "      <td>0.714886</td>\n",
       "      <td>所</td>\n",
       "      <td>60</td>\n",
       "      <td>61</td>\n",
       "    </tr>\n",
       "    <tr>\n",
       "      <th>3</th>\n",
       "      <td>WORK_OF_ART</td>\n",
       "      <td>0.657904</td>\n",
       "      <td>況</td>\n",
       "      <td>62</td>\n",
       "      <td>63</td>\n",
       "    </tr>\n",
       "    <tr>\n",
       "      <th>4</th>\n",
       "      <td>MONEY</td>\n",
       "      <td>1.000000</td>\n",
       "      <td>8. 9 萬 億 美</td>\n",
       "      <td>118</td>\n",
       "      <td>124</td>\n",
       "    </tr>\n",
       "    <tr>\n",
       "      <th>5</th>\n",
       "      <td>MONEY</td>\n",
       "      <td>1.000000</td>\n",
       "      <td>元</td>\n",
       "      <td>124</td>\n",
       "      <td>125</td>\n",
       "    </tr>\n",
       "    <tr>\n",
       "      <th>6</th>\n",
       "      <td>PERCENT</td>\n",
       "      <td>0.999992</td>\n",
       "      <td>9</td>\n",
       "      <td>138</td>\n",
       "      <td>139</td>\n",
       "    </tr>\n",
       "    <tr>\n",
       "      <th>7</th>\n",
       "      <td>PERCENT</td>\n",
       "      <td>0.999994</td>\n",
       "      <td>%</td>\n",
       "      <td>140</td>\n",
       "      <td>141</td>\n",
       "    </tr>\n",
       "  </tbody>\n",
       "</table>\n",
       "</div>"
      ],
      "text/plain": [
       "  entity_group     score        word  start  end\n",
       "0         DATE  0.999999           本      2    3\n",
       "1         DATE  0.999999           週      3    4\n",
       "2  WORK_OF_ART  0.714886           所     60   61\n",
       "3  WORK_OF_ART  0.657904           況     62   63\n",
       "4        MONEY  1.000000  8. 9 萬 億 美    118  124\n",
       "5        MONEY  1.000000           元    124  125\n",
       "6      PERCENT  0.999992           9    138  139\n",
       "7      PERCENT  0.999994           %    140  141"
      ]
     },
     "execution_count": 64,
     "metadata": {},
     "output_type": "execute_result"
    }
   ],
   "source": [
    "entities_zh = ner_zh_tw(translation_en_to_zh_tw)\n",
    "entities_df_zh = pd.DataFrame(entities_zh)\n",
    "print(\"Entities (ZH):\")\n",
    "entities_df_zh"
   ]
  },
  {
   "cell_type": "markdown",
   "id": "2d1264c6-0320-45ac-95fa-1aa342507985",
   "metadata": {},
   "source": [
    "✍🏻 Do the results make sense?\n",
    "\n",
    "Mostly yes. The model correctly identifies the date, monetary value, and percentage. However, the recognition of the work of art (title of the report) is less accurate, as it only partially captures the title. This indicates the model's strengths in recognizing certain entities but also highlights areas where it may need improvement or more context to provide accurate results."
   ]
  },
  {
   "cell_type": "markdown",
   "id": "825845dc-7f9e-4a4c-87ab-4216935e1933",
   "metadata": {},
   "source": [
    "Both English and Chinese NER results show some strengths in identifying key entities like organizations and monetary values (in the Chinese example). However, both sets of results also demonstrate challenges with partial or incorrect entity recognition, indicating areas where the models might need improvement."
   ]
  },
  {
   "cell_type": "markdown",
   "id": "78d0af3a-79d1-4eb7-991a-9b9b22682c56",
   "metadata": {
    "tags": []
   },
   "source": [
    "# Question 8: Sentiment Analysis"
   ]
  },
  {
   "cell_type": "markdown",
   "id": "75cd4e1a-2609-43b6-9add-d3c888f145b8",
   "metadata": {},
   "source": [
    "### Initialize sentiment analysis pipeline"
   ]
  },
  {
   "cell_type": "code",
   "execution_count": 75,
   "id": "7057407e-0e9e-4bc5-a1cb-51c5f1811482",
   "metadata": {},
   "outputs": [
    {
     "name": "stderr",
     "output_type": "stream",
     "text": [
      "No model was supplied, defaulted to distilbert-base-uncased-finetuned-sst-2-english and revision af0f99b (https://huggingface.co/distilbert-base-uncased-finetuned-sst-2-english).\n",
      "Using a pipeline without specifying a model name and revision in production is not recommended.\n"
     ]
    },
    {
     "data": {
      "application/vnd.jupyter.widget-view+json": {
       "model_id": "0a87bbced9b14aa1b723452de7cee3bd",
       "version_major": 2,
       "version_minor": 0
      },
      "text/plain": [
       "Downloading config.json:   0%|          | 0.00/612 [00:00<?, ?B/s]"
      ]
     },
     "metadata": {},
     "output_type": "display_data"
    },
    {
     "data": {
      "application/vnd.jupyter.widget-view+json": {
       "model_id": "4ac86def5de7472683383d597a00bb7c",
       "version_major": 2,
       "version_minor": 0
      },
      "text/plain": [
       "Downloading pytorch_model.bin:   0%|          | 0.00/409M [00:00<?, ?B/s]"
      ]
     },
     "metadata": {},
     "output_type": "display_data"
    },
    {
     "data": {
      "application/vnd.jupyter.widget-view+json": {
       "model_id": "8dba1982093249f7a3360e7e4983d33b",
       "version_major": 2,
       "version_minor": 0
      },
      "text/plain": [
       "Downloading tokenizer_config.json:   0%|          | 0.00/295 [00:00<?, ?B/s]"
      ]
     },
     "metadata": {},
     "output_type": "display_data"
    },
    {
     "data": {
      "application/vnd.jupyter.widget-view+json": {
       "model_id": "b8250edb4bab433d974bffd348a7cba1",
       "version_major": 2,
       "version_minor": 0
      },
      "text/plain": [
       "Downloading vocab.txt:   0%|          | 0.00/110k [00:00<?, ?B/s]"
      ]
     },
     "metadata": {},
     "output_type": "display_data"
    },
    {
     "data": {
      "application/vnd.jupyter.widget-view+json": {
       "model_id": "ca97029d150c4e418364924ffba89223",
       "version_major": 2,
       "version_minor": 0
      },
      "text/plain": [
       "Downloading (…)cial_tokens_map.json:   0%|          | 0.00/112 [00:00<?, ?B/s]"
      ]
     },
     "metadata": {},
     "output_type": "display_data"
    }
   ],
   "source": [
    "sentiment_en = pipeline(\"sentiment-analysis\")\n",
    "sentiment_zh_tw = pipeline(\"text-classification\", model=\"uer/roberta-base-finetuned-dianping-chinese\")"
   ]
  },
  {
   "cell_type": "markdown",
   "id": "ceb003aa-310a-488b-9223-8881c1a8ee5e",
   "metadata": {
    "tags": []
   },
   "source": [
    "### Sentiment analysis for English (L1)"
   ]
  },
  {
   "cell_type": "code",
   "execution_count": 74,
   "id": "77251446-b7b4-467f-8d7f-82e2b824a0c6",
   "metadata": {},
   "outputs": [
    {
     "data": {
      "text/plain": [
       "'\\nEmployees’ negative daily emotions and lack of well-being can ultimately hurt worker engagement – and the economy, according to a new report released this week.\\n\\nGallup, in its “State of the Global Workplace,” estimates that low employee engagement costs the global economy $8.9 trillion, or 9% of global GDP.\\n'"
      ]
     },
     "execution_count": 74,
     "metadata": {},
     "output_type": "execute_result"
    }
   ],
   "source": [
    "text_en"
   ]
  },
  {
   "cell_type": "code",
   "execution_count": 70,
   "id": "a3eb72d3-7852-4d69-9c4c-2b016313cc01",
   "metadata": {},
   "outputs": [
    {
     "name": "stdout",
     "output_type": "stream",
     "text": [
      "Sentiment Analysis (EN): [{'label': 'NEGATIVE', 'score': 0.9994232654571533}]\n"
     ]
    }
   ],
   "source": [
    "result_en = sentiment_en(text_en)\n",
    "print(\"Sentiment Analysis (EN):\", result_en)"
   ]
  },
  {
   "cell_type": "markdown",
   "id": "5a1b4405-52d8-45e9-957b-040d13161dab",
   "metadata": {},
   "source": [
    "### Sentiment analysis for Traditional Chinese (L2)"
   ]
  },
  {
   "cell_type": "code",
   "execution_count": 73,
   "id": "bf6d1a3f-cba3-409e-aa32-0651924457ea",
   "metadata": {},
   "outputs": [
    {
     "data": {
      "text/plain": [
       "'根據本週發佈的一份新報告,員工日常負面情緒和缺乏福利最終會損害員工參與 — — 以及經濟。 Gallup在其《全球工作場所狀況 》 ( State of the Global World Works)中估計,員工參與率低會給全球經濟帶來8.9萬億美元的損失,相當於全球GDP的9 % 。'"
      ]
     },
     "execution_count": 73,
     "metadata": {},
     "output_type": "execute_result"
    }
   ],
   "source": [
    "translation_en_to_zh_tw"
   ]
  },
  {
   "cell_type": "code",
   "execution_count": 76,
   "id": "dc743f89-89c4-4c58-8663-515fecb664a6",
   "metadata": {},
   "outputs": [
    {
     "name": "stdout",
     "output_type": "stream",
     "text": [
      "Sentiment Analysis (ZH-TW): [{'label': 'negative (stars 1, 2 and 3)', 'score': 0.9721906185150146}]\n"
     ]
    }
   ],
   "source": [
    "result_zh_tw = sentiment_zh_tw(translation_en_to_zh_tw)\n",
    "print(\"Sentiment Analysis (ZH-TW):\", result_zh_tw)"
   ]
  },
  {
   "cell_type": "markdown",
   "id": "64233793-9411-4f2d-ba6f-c346e6c4a4e6",
   "metadata": {},
   "source": [
    "Do the results make sense?\n",
    "\n",
    "Yes, the results make sense and are similar between the languages. Both the English and Traditional Chinese sentiment analyses indicate a negative sentiment in the texts. This is consistent with the content of the text, which discusses negative daily emotions, lack of well-being, and their harmful effects on worker engagement and the economy."
   ]
  },
  {
   "cell_type": "code",
   "execution_count": null,
   "id": "3453188c-7a91-4e31-854b-fab5f4b8d7c2",
   "metadata": {},
   "outputs": [],
   "source": []
  }
 ],
 "metadata": {
  "environment": {
   "kernel": "python3",
   "name": ".m122",
   "type": "gcloud",
   "uri": "us-docker.pkg.dev/deeplearning-platform-release/gcr.io/:m122"
  },
  "kernelspec": {
   "display_name": "Python 3 (ipykernel)",
   "language": "python",
   "name": "python3"
  },
  "language_info": {
   "codemirror_mode": {
    "name": "ipython",
    "version": 3
   },
   "file_extension": ".py",
   "mimetype": "text/x-python",
   "name": "python",
   "nbconvert_exporter": "python",
   "pygments_lexer": "ipython3",
   "version": "3.10.12"
  }
 },
 "nbformat": 4,
 "nbformat_minor": 5
}
